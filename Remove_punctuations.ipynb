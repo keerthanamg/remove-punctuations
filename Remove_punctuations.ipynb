{
  "nbformat": 4,
  "nbformat_minor": 0,
  "metadata": {
    "colab": {
      "provenance": [],
      "authorship_tag": "ABX9TyMc9vk3mK5gb20uUL8gwx8V",
      "include_colab_link": true
    },
    "kernelspec": {
      "name": "python3",
      "display_name": "Python 3"
    },
    "language_info": {
      "name": "python"
    }
  },
  "cells": [
    {
      "cell_type": "markdown",
      "metadata": {
        "id": "view-in-github",
        "colab_type": "text"
      },
      "source": [
        "<a href=\"https://colab.research.google.com/github/keerthanamg/remove-punctuations/blob/main/Remove_punctuations.ipynb\" target=\"_parent\"><img src=\"https://colab.research.google.com/assets/colab-badge.svg\" alt=\"Open In Colab\"/></a>"
      ]
    },
    {
      "cell_type": "code",
      "execution_count": 1,
      "metadata": {
        "colab": {
          "base_uri": "https://localhost:8080/"
        },
        "id": "cdmU2aW8t8qo",
        "outputId": "bebf4b4c-3bfd-4dba-f9b4-7c8e95cb974a"
      },
      "outputs": [
        {
          "output_type": "stream",
          "name": "stdout",
          "text": [
            "Enter a paragraph: Artificial intelligence (AI) is intelligence—perceiving, synthesizing, and inferring information—demonstrated by machines, as opposed to intelligence displayed by non-human animals and humans. Example tasks in which this is done include speech recognition, computer vision, translation between (natural) languages, as well as other mappings of inputs.  AI applications include advanced web search engines (e.g., Google Search), recommendation systems (used by YouTube, Amazon and Netflix), understanding human speech (such as Siri and Alexa), self-driving cars (e.g., Waymo), generative or creative tools (ChatGPT and AI art), automated decision-making and competing at the highest level in strategic game systems (such as chess and Go).[1]  As machines become increasingly capable, tasks considered to require \"intelligence\" are often removed from the definition of AI, a phenomenon known as the AI effect.[2] For instance, optical character recognition is frequently excluded from things considered to be AI,[3] having become a routine technology.[4]  Artificial intelligence was founded as an academic discipline in 1956, and in the years since has experienced several waves of optimism,[5][6] followed by disappointment and the loss of funding (known as an \"AI winter\"),[7][8] followed by new approaches, success and renewed funding.[6][9] AI research has tried and discarded many different approaches since its founding, including simulating the brain, modeling human problem solving, formal logic, large databases of knowledge and imitating animal behavior. In the first decades of the 21st century, highly mathematical-statistical machine learning has dominated the field, and this technique has proved highly successful, helping to solve many challenging problems throughout industry and academia.\n",
            "\n",
            "Paragraph without punctuation: Artificial intelligence AI is intelligence—perceiving synthesizing and inferring information—demonstrated by machines as opposed to intelligence displayed by nonhuman animals and humans Example tasks in which this is done include speech recognition computer vision translation between natural languages as well as other mappings of inputs  AI applications include advanced web search engines eg Google Search recommendation systems used by YouTube Amazon and Netflix understanding human speech such as Siri and Alexa selfdriving cars eg Waymo generative or creative tools ChatGPT and AI art automated decisionmaking and competing at the highest level in strategic game systems such as chess and Go1  As machines become increasingly capable tasks considered to require intelligence are often removed from the definition of AI a phenomenon known as the AI effect2 For instance optical character recognition is frequently excluded from things considered to be AI3 having become a routine technology4  Artificial intelligence was founded as an academic discipline in 1956 and in the years since has experienced several waves of optimism56 followed by disappointment and the loss of funding known as an AI winter78 followed by new approaches success and renewed funding69 AI research has tried and discarded many different approaches since its founding including simulating the brain modeling human problem solving formal logic large databases of knowledge and imitating animal behavior In the first decades of the 21st century highly mathematicalstatistical machine learning has dominated the field and this technique has proved highly successful helping to solve many challenging problems throughout industry and academia\n",
            "\n",
            "Number of spaces: 250\n"
          ]
        }
      ],
      "source": [
        "import string\n",
        "paragraph = input(\"Enter a paragraph: \")\n",
        "paragraph = paragraph.translate(str.maketrans(\"\", \"\", string.punctuation))\n",
        "num_spaces = paragraph.count(\" \")\n",
        "print(\"\")\n",
        "print(f\"Paragraph without punctuation: {paragraph}\")\n",
        "print(\"\")\n",
        "print(f\"Number of spaces: {num_spaces}\")"
      ]
    }
  ]
}